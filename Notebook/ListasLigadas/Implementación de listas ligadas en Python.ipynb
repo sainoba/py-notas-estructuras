{
  "cells": [
    {
      "metadata": {},
      "cell_type": "markdown",
      "source": "# Listas ligadas ó Linked lists\n\n## Tabla de contenido\n- [**Objetivo**](#Objetivo)\n- **Introducción**\n\n**Nota: la tabla de contenido se va a generar una vez que se tenga la versión final de este notebook, para no perder tiempo rehaciendola en cada cambio.**\n\n## Objetivo\nEntender la implementación de las listas ligadas \n\n## Introducción\nUna lista es una estructura de datos similar a un arreglo, de hecho podría decirse, de una forma laxa, que las listas son arreglos de tamaño dinámico.\nA grandes rasgos una lista ligada es una serie de objetos ligados, donde el elemento en la posición <em>n</em> tiene una referencia al objeto en la posición *n+1*. De este modo para acceder al a cualquier elemento se puede seguir la cadena de referencias desde el primer elemento hasta el _n-ésimo_ elemento que queramos accesar.\n\n![Ejemplo lista](https://raw.githubusercontent.com/sainoba/py-notas-estructuras/master/Notebook/ListasLigadas/img/Lista.svg?sanitize=true)\n\nUna lista ligada tiene las siguientes características:\n- Sus elementos están ordenados secuencialmente.\n- Se pueden insertar nuevos elementos en cualquier posición.\n- Se puede acceder/remover cualquier elemento.\n- Puede crecer/reducir su tamaño en tiempo de ejecución. Contrario a lo que pasa con un arreglo.\n- En varios lenguajes de programación permite guardar objetos de tipos distintos.\n\nPareciera que una lista ligada es una versión mejorada de los arreglos. No necesitamos declarar un tamaño al momento de crearla, e inlcuso podemos guardar objetos de distintos tipos.\n\n## ¿Por qué no sustituimos _arreglos_ por _listas_ en todo?\nIgnorando código trivialmente optimizable llega un punto en el que una estructura de datos no puede ganar ciertas características sin sacrificar otras. Se tienen que comprometer propiedades por otras, esto es conocido como [trade-off](#Trade-off).\nLas listas sacrifican velocidad de accesso para ganar tamaño dinámico. Esto significa que suele ser más lento accesar elementos guardados en la lista, pero podremos agregar y remover elementos de esta sin preocuparnos de quedarnos sin espacio[*](#Espacio-ilimitado).\n\nEsto pasa porque los elementos guardados en la lista muy probablemente no estén alojados en secciones contiguas de memoria, incluso pueden llegar a ocupar tamaños distintos en la memoria por lo que no se puede hacer uso de un polinomio de direccionamiento. Esto significa que tenemos que seguir la cadena de referencias, en vez de hacer un simple cálculo.\n\n## Métodos\nUna lista requiere de al menos 2 funciones:\n- **insert(indice, elemento)**: Inserta un elemento en la posición solicitada.\n- **remove(indice)**: Remueve y regresa un elemento en la posición solicitada.\n\n## Métodos adicionales\nAdicionalmente se suelen implementar las siguientes funciones por comodidad:\n- **get(indice)**: Regresa el elemento en la posición solicitada.\n- **append(elemento)**: Inserta un elemento al final de la lista.\n- **length()**: Regresa la cantidad de elementos contenidos en la lista.\n\n## Esqueleto\nTomando como referencia estas funciones podemos empezar a armar un esqueleto de nuestra estructura Lista.\nNecesitaremos implementar los siguientes métodos\n- **`__init__`**: Método para preparar nuestra lista antes de usarla. [Checar notas](#Función-<code>__init__<%2Fcode>)\n- **`__len__`**: Método para regresar la cantidad de elementos en la lista. [Checar notas](#Función-<code>__len__<%2Fcode>)\n- **`__getitem__`**: Método para obtener un elemento en la posición solicitada. [Checar notas](#Función-<code>__getitem__<%2Fcode>)\n- **`insert`**, **`remove`**, **`append`**: Métodos descritos previamente.\n"
    },
    {
      "metadata": {
        "trusted": true
      },
      "cell_type": "code",
      "source": "class Lista:\n    def __init__(self):  # Prepara la instancia de la clase para poder usarla\n        pass\n\n    def __len__(self):  # Regresa la longitud de la lista\n        pass\n\n    def __getitem__(self, indice):  # Regresa el objeto en la posición solicitada\n        pass\n    \n    def insert(self, indice, objeto):  # Inserta un elemento en la posición solicitada\n        pass\n    \n    def remove(self, indice):  # Remueve y regresa el elemento en la posición solicitada\n        pass\n\n    def append(self, objeto):  # Inserta un elemento al final de la lista\n        pass",
      "execution_count": 1,
      "outputs": []
    },
    {
      "metadata": {},
      "cell_type": "markdown",
      "source": "En el código anterior defininimos nuestra clase Lista con métodos vacios, casi listos para ser implementados. El primer paso es describir como implementaremos las referencias dentro de nuestra lista.\n\n## Implementación con objetos ligados\nEsta implementación se basa en dos puntos:\n1. Se guarda la referencia al primer objeto.\n2. Cada objeto guarda una referencia al siguiente.\n\n<img src=\"https://raw.githubusercontent.com/sainoba/py-notas-estructuras/master/Notebook/ListasLigadas/img/ObjetosLigados.svg?sanitize=true\">\n\nComo se ve en la imagen, si tenemos una forma de llegar al primer elemento podemos llegar a cualquier otro siguiendo las referencias al siguiente. Por eso el nombre de **objetos ligados**.\nAquí nuestro _primer elemento_ sería el que se encuentra más a la izquierda.\n\nEsta estrategia de objetos ligados se ve muy bien pero tiene un pequeño detalle, para guardar una referencia al _siguiente objeto_ necesitamos agregar una variable a cada objeto que se guarde. No es para nada recomendable modificar los objetos a guardar, afortunadamente podemos encapsular los objetos en una clase contenedora, que además de contener al objeto, también incluye la referencia al siguiente elemento de la lista:\n\n<center><img src=\"https://raw.githubusercontent.com/sainoba/py-notas-estructuras/master/Notebook/ListasLigadas/img/ContenedorLigado.svg?sanitize=true\"></center>\n\nDe esta manera podemos conservar nuestros objetos originales intactos, y también podemos guardar la referencia al siguiente.\n\nVamos a programar nuestra estructura paso a paso.\n### Paso 1: Definir un contenedor\nAquí vamos a definir nuestra clase contenedora, esta clase es muy sencilla ya que sólo vamos a definir 2 variables que guarden las 2 cosas que nos interesan:\n- Una referencia al siguiente contenedor.\n- El objeto que queremos guardar."
    },
    {
      "metadata": {
        "trusted": false
      },
      "cell_type": "code",
      "source": "class Contenedor:\n    def __init__(self, objeto, siguiente=None):  # Se prepara al objeto contenedor para que pueda ser usado\n        self.siguiente = siguiente  # Se guarda la referencia al siguiente contenedor\n        self.objeto = objeto  # Se guarda al objeto que se quiere encapsular",
      "execution_count": null,
      "outputs": []
    },
    {
      "metadata": {},
      "cell_type": "markdown",
      "source": "Como podemos observar nuestro _objeto_ a guardar no se modifica.\n### Paso 2: Implementar método `__init__` de la Lista\nEste método sirve para preparar nuestra estructura antes de que sea usada. En este caso en particular vamos a guardar 3 cosas:\n- Un contador que indica el número de elementos en la lista, este aumenta o disminuye cada vez que hacemos `insert(...)` o `remove(...)`\n- La variable _primero_, que es una referencia al primer elemento de la lista.\n- La variable _ultimo_, que es una referencia al último elemento de la lista."
    },
    {
      "metadata": {
        "trusted": false
      },
      "cell_type": "code",
      "source": "class Pila:\n    def __init__(self):  # Preparamos nuestra estructura\n        self.cuantos = 0  # La lista tiene 0 elementos cuando se crea\n        self.primero = None  # La lista no tiene primero elemento, porque está vacía\n        self.ultimo = None  # La lista no tiene último elemento, porque está vacía",
      "execution_count": 3,
      "outputs": []
    },
    {
      "metadata": {},
      "cell_type": "markdown",
      "source": "¿Por qué usamos la variable `cuantos` si podemos recorrer la lista y contar los elementos?</br>\nNo ocupa mucho espacio y es más eficiente que recorrer toda la lista para contar los elementos cada vez que queremos saber su longitud.\n\n¿Por qué usamos la variable `ultimo`?</br>\nEsta variable nos facilitará la implementación del método `append`.\n\n\n\n### Paso 3: Implementar método `__len__`\nEste método regresa la cantidad de elementos en nuestra lista. Afortunadamente ya tenemos una variable que se encarga de llevar la cuenta. Por eso mismo sólo es cuestión de regresarla.\nSólo tenemos que tener cuidado de actualizar `cuantos` cada vez que se haga un `insert` o un `remove`."
    },
    {
      "metadata": {
        "trusted": false
      },
      "cell_type": "code",
      "source": "class Pila:\n    def __init__(self):  # Preparamos nuestra estructura\n        self.cuantos = 0  # La lista tiene 0 elementos cuando se crea\n        self.primero = None  # La lista no tiene primero elemento, porque está vacía\n        self.ultimo = None  # La lista no tiene último elemento, porque está vacía\n\n    def __len__(self):  # Método para regresar la longitud de la lista\n        return self.cuantos  # Regresamos nuestro contador",
      "execution_count": null,
      "outputs": []
    },
    {
      "metadata": {},
      "cell_type": "markdown",
      "source": "### Paso 4: Implementar método `__getitem__`\nEl método `__getitem__` nos regresará el objeto en cierta posición solicitada.\n\n#### Caso 1 la lista está vacía:\nPodemos hacer varias cosas como lanzar un error, o regresar un valor nulo(`None`). Ambos tienen ventajas y desventajas, en este caso decidimos lanzar un error.\n\n#### Caso 2 la pila no está vacía:\nObservemos que en nuestro método `__init__` creamos la variable `tope` que precisamente es una referencia al tope de la pila. Por lo que sólo basta con regresar este mismo.\nPero hay que tener cuidado, recordemos que nuestros objetos están dentro de contenedores, por esto mismo tenemos que sacarlos del contenedor usando `tope.objeto`.\n\n#### Caso 3 la lista "
    },
    {
      "metadata": {
        "trusted": false
      },
      "cell_type": "code",
      "source": "class Pila:\n    def __init__(self):  # Preparamos nuestra estructura\n        self.cuantos = 0  # La lista tiene 0 elementos cuando se crea\n        self.primero = None  # La lista no tiene primero elemento, porque está vacía\n        self.ultimo = None  # La lista no tiene último elemento, porque está vacía\n\n    def __len__(self):  # Método para regresar la longitud de la lista\n        return self.cuantos  # Regresamos nuestro contador\n\n    def insert(self, indice, objeto):  # Inserta un elemento en la posición solicitada\n        if indice < 0 or indice > len(self):  # Verificamos que el índice sea valido\n            raise IndexError('Índice inválido')  # Lanzamos un error\n\n        elemento_anterior = None\n        elemento_siguiente = self.primero  # Referencia que ayudará a recorrer la lista\n\n        for idx in range(indice):\n            elemento_anterior = elemento_siguiente\n            elemento_siguiente = elemento_siguiente.siguiente\n\n        elemento_nuevo = Contenedor(objeto, elemento_siguiente)\n\n        if elemento_anterior is None:  # \n            self.primero = elemento_nuevo\n            if self.ultimo is None:  # Al insertar el primer elemento este también se convierte en el último\n                self.ultimo = self.primero\n        else:\n            elemento_anterior.siguiente = elemento_nuevo\n        self.cuantos += 1\n    \n    \n    def append(self, objeto):\n        elemento_nuevo = Contenedor(objeto)\n        if self.primero is None:\n            self.primero = elemento_nuevo\n        else:\n            self.ultimo.siguiente = elemento_nuevo\n        self.ultimo = elemento_nuevo\n        self.cuantos += 1\n\n    def remove(self, indice):  # Remueve y regresa el elemento en la posición solicitada\n        if indice < 0 or indice >= len(self):  # Verificamos que el índice sea valido\n            raise IndexError('Índice inválido')  # Lanzamos un error\n\n        elemento_anterior = None\n        elemento_actual = self.primero  # Referencia que ayudará a recorrer la lista\n\n        for idx in range(indice):\n            elemento_anterior = elemento_actual\n            elemento_actual = elemento_actual.siguiente\n            \n        elemento_actual = None\n        \n        self.cuantos -= 1\n        return elemento_actual.objeto\n        \n            \n\n    def __getitem__(self, indice):  # Método para regresar el elemento en la posición solicitada\n        if indice < 0 or indice > len(self):  # Verificamos que el índice sea válido\n            raise IndexError('Índice inválido')  # Lanzamos un error\n        elemento_tmp = self.primero  # Referencia que ayudará a recorrer la lista\n        for idx in range(indice):  # Recorremos nuestra lista hasta llegar al índice deseado\n            elemento_tmp = elemento_tmp.siguiente  # Se cmabia la referencia al siguiente en la lista\n        return elemento_tmp.objeto  # Regresamos el objeto que se encuentra en el contenedor\n",
      "execution_count": null,
      "outputs": []
    },
    {
      "metadata": {},
      "cell_type": "markdown",
      "source": "### Paso 5: Implementar método `insert`\nEl método `insert` agrega un nuevo objeto a nuestra lista en cierta posición. Recordemos que para poder agragar un objeto tenemos que hacer 3 cosas:\n1. Obtener una referencia al elemento _indice + 1_\n1. Encapsular al objeto a insertar en un contenedor, incluyendo la referencia del punto 1\n1. Cambiar la referencia de _indice - 1_ al nuevo elemento\n\nhola\n#### Caso 1 la lista está vacía:\nPodemos hacer varias cosas como lanzar un error, o regresar un valor nulo(`None`). Ambos tienen ventajas y desventajas, en este caso decidimos lanzar un error.\n\n#### Caso 2 la pila no está vacía:\nObservemos que en nuestro método `__init__` creamos la variable `tope` que precisamente es una referencia al tope de la pila. Por lo que sólo basta con regresar este mismo.\nPero hay que tener cuidado, recordemos que nuestros objetos están dentro de contenedores, por esto mismo tenemos que sacarlos del contenedor usando `tope.objeto`.\n\n#### Caso 3 la lista "
    },
    {
      "metadata": {
        "trusted": false
      },
      "cell_type": "code",
      "source": "class Pila:\n    def __init__(self):  # Preparamos nuestra estructura\n        self.cuantos = 0  # La lista tiene 0 elementos cuando se crea\n        self.primero = None  # La lista no tiene primero elemento, porque está vacía\n        self.ultimo = None  # La lista no tiene último elemento, porque está vacía\n\n    def __len__(self):  # Método para regresar la longitud de la lista\n        return self.cuantos  # Regresamos nuestro contador\n\n",
      "execution_count": null,
      "outputs": []
    },
    {
      "metadata": {},
      "cell_type": "markdown",
      "source": "### Implementaciones alternas @pendiente (Mencioral listas ligadas con nodos de más de un elemento)\nHay más de una forma de implementar pilas, cada una con ventajas y desventajas distintas."
    },
    {
      "metadata": {
        "trusted": false
      },
      "cell_type": "code",
      "source": "",
      "execution_count": null,
      "outputs": []
    },
    {
      "metadata": {},
      "cell_type": "markdown",
      "source": "## Notas de Python\n### Función `__init__`\nLa función `__init__` se usa para preparar un objeto antes de empezar a usarlo.\n\nEn el caso de nuestra lista lo usaremos para crear e inicializar las variables que guardan información importante sobre la instancia, como el número de elementos dentro de la estructura.\n### Función `__len__`\nEn Python se obtiene la longitud de un objeto con el siguiente código `len(objeto)`, esto Python lo termina convirtiendo a `objeto.__len__`.\n\nPor eso mismo si quieremos que a nuestro objeto se le pueda preguntar su longitud implementamos `__len__`.\n\nEn este caso la longituda de nuestra Lista es la cantidad de elementos que tiene guardados.\n### Función `__getitem__`\nPython nos ofrece este método para accceder elementos indexados. Al sobreescribirlo podremos acceder a los objetos de una instancia de la siguiente manera `objeto[llave]`. Que es una alternativa más limpia a implementar `objeto.get(llave)`.\n\nEn nuestro caso lo usaremos para acceder a los elementos de una lista en cierta posición, por ejemplo: `mi_lista[13]`.\n\n### Objeto `None`\nEste objeto representa al objeto vacío. Es el análogo a `void` en C, o `null` en Java.\n\n### Data model\nPuedes encontrar más información sobre los métodos especiales de Python en lo documentación oficial: [Data model](https://docs.python.org/3/reference/datamodel.html).\n\n## Notas generales\n### Espacio ilimitado\nNo existe tal cosa como memoria infinita, cuando se refiere a que una estrucura puede crecer tanto como quiera significa que puede crecer tanto como el sistema lo permita. Puede estar limitada por la máquina virtual donde se ejecuta, como es el caso de Java, o en última instancia por el hardware.\n\n## Definiciones\n### Trade-off\nCompromiso que se acuerda \n\n## Referencias\n- Bader, D. (2017, June 27). Linked Lists in Python – dbader.org. Recuperado de https://dbader.org/blog/python-linked-list\n\n@Pendiente (Darle formato a estas referenicas. vvvvvvvvvvv)\n- Mehlhorn, K y Sanders P. (2008). Algorithms and Data Structures: The Basic Toolbox (pp. 8-12). doi: 10.1007/978-3-540-77978-0\n- Mehlhorn, K. y Sanders, P. (2008). Algorithms and data structures: The basic toolbox. doi:10.1007/978-3-540-77978-0"
    }
  ],
  "metadata": {
    "kernelspec": {
      "name": "python3",
      "display_name": "Python 3",
      "language": "python"
    },
    "language_info": {
      "mimetype": "text/x-python",
      "nbconvert_exporter": "python",
      "name": "python",
      "file_extension": ".py",
      "version": "3.5.4",
      "pygments_lexer": "ipython3",
      "codemirror_mode": {
        "version": 3,
        "name": "ipython"
      }
    }
  },
  "nbformat": 4,
  "nbformat_minor": 2
}