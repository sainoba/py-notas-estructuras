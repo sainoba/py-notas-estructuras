{
  "cells": [
    {
      "metadata": {
        "collapsed": true
      },
      "cell_type": "markdown",
      "source": "# Listas ligadas\n\n## Tabla de contenido\n- [**Objetivo**](#Objetivo)\n- [**Introducción**](#Introducción)\n- [**Referencias**](#Referencias)\n\n**Nota: la tabla de contenido se va a generar una vez que se tenga la versión final de este notebook, para no perder tiempo rehaciendola en cada cambio.**\n\n\n## Objetivo\nEl fin de este notebook es explicar la idea general de una posible implementación de listas ligadas enfocada a lenguajes orientados a objetos.\n\n\n## Introducción\n\n\n\n<video controls src=\"http://techslides.com/demos/sample-videos/small.mp4\"> </video>\n\n\n## Referencias\nHola\n"
    },
    {
      "metadata": {
        "trusted": true
      },
      "cell_type": "code",
      "source": "",
      "execution_count": null,
      "outputs": []
    }
  ],
  "metadata": {
    "kernelspec": {
      "name": "python36",
      "display_name": "Python 3.6",
      "language": "python"
    },
    "language_info": {
      "mimetype": "text/x-python",
      "nbconvert_exporter": "python",
      "name": "python",
      "pygments_lexer": "ipython3",
      "version": "3.6.6",
      "file_extension": ".py",
      "codemirror_mode": {
        "version": 3,
        "name": "ipython"
      }
    }
  },
  "nbformat": 4,
  "nbformat_minor": 2
}